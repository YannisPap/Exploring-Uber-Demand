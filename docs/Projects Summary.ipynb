{
 "cells": [
  {
   "cell_type": "markdown",
   "metadata": {},
   "source": [
    "# Exploring Uber demand in NYC\n",
    "***\n",
    "\n",
    "![header_image](https://raw.githubusercontent.com/YannisPap/Exploring-Uber-Demand/master/images/10160052.jpeg)\n",
    "***\n",
    "\n",
    "## Summary  \n",
    "\n",
    "The dataset we used for this project included data on Uber cars' ridership in the city of New York for the first six months of 2015. As we were exploring it, we noticed that, against our initial intuition, the weather variables had not any or very weak impact on the ridership.  \n",
    "Going further in the analysis, it was getting more clear that the demand follows specific patterns both during the day and during the week.  \n",
    "Also, we noticed a general trend of rising demand during the six months, led the total demand from 2,000 pickups per hour to 3,500.  \n",
    "\n",
    "Using the above conclusions, we were able to model the demand with forecasting horizons from a week to next hour. These models can be used on several occasions. For example, someone could use the weekly forecasting model to have a general view of the next week's demand. On the other hand, a real-time system could compare the prediction per borough, with the positions of Uber cars and highlight the areas accordingly to drivers' applications helping them to roam more efficiently through the city.  \n",
    "\n",
    "Since the model is based on past observations, it is prone to wrong estimations on very irregular conditions. Additionally, since current observations affect future prediction, demand out of the ordinary levels may lead to wrong estimations at some point to later predictions.  \n",
    "\n",
    "(**Note**: *This is a brief report of the results. Also available, [the full analysis](https://github.com/YannisPap/Exploring-Uber-Demand/blob/master/exploring_uber_demand.md) and the [R Notebook](https://github.com/YannisPap/Exploring-Uber-Demand/blob/master/exploring_uber_demand.Rmd).*)  \n",
    "\n",
    "***\n",
    "\n",
    "## Final Plots and Summary\n",
    "\n",
    "### Pickups Distribution  \n",
    "\n",
    "The distribution of the four major boroughs, on a square rooted scale, are mainly normal to bimodal because of the quick rise of the demand during the morning hours.  \n",
    "Staten Island's pickups follow a geometric distribution because of the minimal demand in the area.  \n",
    "Finally, on EWR the demand is practically zero with a very few pickups that we may consider as outliers.\n",
    "\n",
    "![download.png](https://raw.githubusercontent.com/YannisPap/Exploring-Uber-Demand/master/figures/Plot_One-1.png)\n",
    "\n",
    "***\n",
    "\n",
    "### Weekly Demand  \n",
    "\n",
    "The four major boroughs follow the same pattern both during the day and through the week.  \n",
    "On working days the demand falls after midnight and then at around 6 o'clock start rising quickly, then it hits a plateau during the afternoon and then rises again during the evening/night. On the X axis (during the week), the demand starts low on Monday and then rises until Saturday, when it tops and then on Sunday starts falling again. This pattern is more evident on Manhattan and Brooklyn.  \n",
    "On the two minor boroughs, Staten Island's demand looks random during the day, but again we can see that the demand slightly rises as we move through the week. EWR, as we noted before has practically no demand.\n",
    "\n",
    "![plot2.png](https://raw.githubusercontent.com/YannisPap/Exploring-Uber-Demand/master/figures/Plot_Two-1.png)\n",
    "\n",
    "***\n",
    "\n",
    "### Demand Prediction  \n",
    "\n",
    "We concluded the Exploratory Data Analysis process with the creation of some models to predict the demand. In general, the models have a perfect fit with just one occasion of underestimating the actual demand on the highest day of the six months period.\n",
    "\n",
    "![plot3.png](https://raw.githubusercontent.com/YannisPap/Exploring-Uber-Demand/master/figures//Plot_Three-1.png)\n"
   ]
  },
  {
   "cell_type": "code",
   "execution_count": null,
   "metadata": {},
   "outputs": [],
   "source": []
  }
 ],
 "metadata": {
  "hide_input": false,
  "kernelspec": {
   "display_name": "Python 3",
   "language": "python",
   "name": "python3"
  },
  "language_info": {
   "codemirror_mode": {
    "name": "ipython",
    "version": 3
   },
   "file_extension": ".py",
   "mimetype": "text/x-python",
   "name": "python",
   "nbconvert_exporter": "python",
   "pygments_lexer": "ipython3",
   "version": "3.6.5"
  },
  "varInspector": {
   "cols": {
    "lenName": 16,
    "lenType": 16,
    "lenVar": 40
   },
   "kernels_config": {
    "python": {
     "delete_cmd_postfix": "",
     "delete_cmd_prefix": "del ",
     "library": "var_list.py",
     "varRefreshCmd": "print(var_dic_list())"
    },
    "r": {
     "delete_cmd_postfix": ") ",
     "delete_cmd_prefix": "rm(",
     "library": "var_list.r",
     "varRefreshCmd": "cat(var_dic_list()) "
    }
   },
   "types_to_exclude": [
    "module",
    "function",
    "builtin_function_or_method",
    "instance",
    "_Feature"
   ],
   "window_display": false
  }
 },
 "nbformat": 4,
 "nbformat_minor": 2
}
